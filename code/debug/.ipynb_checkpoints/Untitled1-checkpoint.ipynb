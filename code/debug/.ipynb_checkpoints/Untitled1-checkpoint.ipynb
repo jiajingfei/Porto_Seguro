{
 "cells": [
  {
   "cell_type": "code",
   "execution_count": 1,
   "metadata": {
    "collapsed": true
   },
   "outputs": [],
   "source": [
    "import sys\n",
    "import pandas\n",
    "from xgboost import XGBClassifier\n",
    "from sklearn.ensemble import GradientBoostingClassifier"
   ]
  },
  {
   "cell_type": "code",
   "execution_count": 20,
   "metadata": {
    "collapsed": true
   },
   "outputs": [],
   "source": [
    "%run '../utils.py'\n",
    "%run '../ensemble.py'"
   ]
  },
  {
   "cell_type": "code",
   "execution_count": 21,
   "metadata": {},
   "outputs": [],
   "source": [
    "x1 = Ensembler.load_directory('./to_be_ensembled/version1/', 'test-sum')\n",
    "x2 = Ensembler.load_file('./to_be_ensembled/Froza_and_Pascal.csv')\n",
    "x3 = Ensembler.load_file('./to_be_ensembled/xgb_single_model_andy_test_284.csv')"
   ]
  },
  {
   "cell_type": "code",
   "execution_count": 23,
   "metadata": {},
   "outputs": [],
   "source": [
    "df = x1.merge(x2, on='id').merge(x3, on='id')"
   ]
  },
  {
   "cell_type": "code",
   "execution_count": 25,
   "metadata": {},
   "outputs": [],
   "source": [
    "cols = [c for c in df.columns if c != 'id']"
   ]
  },
  {
   "cell_type": "code",
   "execution_count": 27,
   "metadata": {},
   "outputs": [
    {
     "data": {
      "text/html": [
       "<div>\n",
       "<style>\n",
       "    .dataframe thead tr:only-child th {\n",
       "        text-align: right;\n",
       "    }\n",
       "\n",
       "    .dataframe thead th {\n",
       "        text-align: left;\n",
       "    }\n",
       "\n",
       "    .dataframe tbody tr th {\n",
       "        vertical-align: top;\n",
       "    }\n",
       "</style>\n",
       "<table border=\"1\" class=\"dataframe\">\n",
       "  <thead>\n",
       "    <tr style=\"text-align: right;\">\n",
       "      <th></th>\n",
       "      <th>598649</th>\n",
       "      <th>726506</th>\n",
       "      <th>735580</th>\n",
       "      <th>Froza_and_Pascal</th>\n",
       "      <th>xgb_single_model_andy_test_284</th>\n",
       "    </tr>\n",
       "  </thead>\n",
       "  <tbody>\n",
       "    <tr>\n",
       "      <th>count</th>\n",
       "      <td>892816.000000</td>\n",
       "      <td>892816.000000</td>\n",
       "      <td>892816.000000</td>\n",
       "      <td>892816.000000</td>\n",
       "      <td>892816.000000</td>\n",
       "    </tr>\n",
       "    <tr>\n",
       "      <th>mean</th>\n",
       "      <td>0.182177</td>\n",
       "      <td>0.181968</td>\n",
       "      <td>0.182075</td>\n",
       "      <td>0.036559</td>\n",
       "      <td>0.056642</td>\n",
       "    </tr>\n",
       "    <tr>\n",
       "      <th>std</th>\n",
       "      <td>0.101338</td>\n",
       "      <td>0.103660</td>\n",
       "      <td>0.099898</td>\n",
       "      <td>0.020249</td>\n",
       "      <td>0.029799</td>\n",
       "    </tr>\n",
       "    <tr>\n",
       "      <th>min</th>\n",
       "      <td>0.032050</td>\n",
       "      <td>0.032314</td>\n",
       "      <td>0.033475</td>\n",
       "      <td>0.006175</td>\n",
       "      <td>0.011943</td>\n",
       "    </tr>\n",
       "    <tr>\n",
       "      <th>25%</th>\n",
       "      <td>0.118045</td>\n",
       "      <td>0.116312</td>\n",
       "      <td>0.117177</td>\n",
       "      <td>0.023336</td>\n",
       "      <td>0.036981</td>\n",
       "    </tr>\n",
       "    <tr>\n",
       "      <th>50%</th>\n",
       "      <td>0.159136</td>\n",
       "      <td>0.157842</td>\n",
       "      <td>0.158854</td>\n",
       "      <td>0.031776</td>\n",
       "      <td>0.049895</td>\n",
       "    </tr>\n",
       "    <tr>\n",
       "      <th>75%</th>\n",
       "      <td>0.216617</td>\n",
       "      <td>0.217570</td>\n",
       "      <td>0.218287</td>\n",
       "      <td>0.043893</td>\n",
       "      <td>0.067848</td>\n",
       "    </tr>\n",
       "    <tr>\n",
       "      <th>max</th>\n",
       "      <td>3.420726</td>\n",
       "      <td>3.596660</td>\n",
       "      <td>3.663612</td>\n",
       "      <td>0.368518</td>\n",
       "      <td>0.610862</td>\n",
       "    </tr>\n",
       "  </tbody>\n",
       "</table>\n",
       "</div>"
      ],
      "text/plain": [
       "              598649         726506         735580  Froza_and_Pascal  \\\n",
       "count  892816.000000  892816.000000  892816.000000     892816.000000   \n",
       "mean        0.182177       0.181968       0.182075          0.036559   \n",
       "std         0.101338       0.103660       0.099898          0.020249   \n",
       "min         0.032050       0.032314       0.033475          0.006175   \n",
       "25%         0.118045       0.116312       0.117177          0.023336   \n",
       "50%         0.159136       0.157842       0.158854          0.031776   \n",
       "75%         0.216617       0.217570       0.218287          0.043893   \n",
       "max         3.420726       3.596660       3.663612          0.368518   \n",
       "\n",
       "       xgb_single_model_andy_test_284  \n",
       "count                   892816.000000  \n",
       "mean                         0.056642  \n",
       "std                          0.029799  \n",
       "min                          0.011943  \n",
       "25%                          0.036981  \n",
       "50%                          0.049895  \n",
       "75%                          0.067848  \n",
       "max                          0.610862  "
      ]
     },
     "execution_count": 27,
     "metadata": {},
     "output_type": "execute_result"
    }
   ],
   "source": [
    "df[cols].describe()"
   ]
  },
  {
   "cell_type": "code",
   "execution_count": 29,
   "metadata": {},
   "outputs": [],
   "source": [
    "for c in cols:\n",
    "    df[c] = df[c].rank() * 1.0 / df.shape[0]"
   ]
  },
  {
   "cell_type": "code",
   "execution_count": 31,
   "metadata": {},
   "outputs": [
    {
     "data": {
      "text/plain": [
       "['598649',\n",
       " '726506',\n",
       " '735580',\n",
       " 'Froza_and_Pascal',\n",
       " 'xgb_single_model_andy_test_284']"
      ]
     },
     "execution_count": 31,
     "metadata": {},
     "output_type": "execute_result"
    }
   ],
   "source": [
    "cols"
   ]
  },
  {
   "cell_type": "code",
   "execution_count": 32,
   "metadata": {},
   "outputs": [],
   "source": [
    "df.loc[:, 'target'] = 0.11 * (df[cols[0]] + df[cols[1]] + df[cols[2]]) + 0.33 * (df[cols[3]] + df[cols[4]])"
   ]
  },
  {
   "cell_type": "code",
   "execution_count": 34,
   "metadata": {},
   "outputs": [],
   "source": [
    "df[['id', 'target']].to_csv('./sub_3_2.csv', index=False)"
   ]
  },
  {
   "cell_type": "code",
   "execution_count": 7,
   "metadata": {
    "collapsed": true
   },
   "outputs": [],
   "source": [
    "?GradientBoostingClassifier"
   ]
  },
  {
   "cell_type": "code",
   "execution_count": 3,
   "metadata": {
    "collapsed": true
   },
   "outputs": [],
   "source": [
    "df = pd.read_csv('../../data/raw_data/train.csv')"
   ]
  },
  {
   "cell_type": "code",
   "execution_count": 4,
   "metadata": {
    "collapsed": true
   },
   "outputs": [],
   "source": [
    "f = FeatureExtractor()\n",
    "df0 = f._convert(df)"
   ]
  },
  {
   "cell_type": "code",
   "execution_count": 5,
   "metadata": {},
   "outputs": [
    {
     "name": "stdout",
     "output_type": "stream",
     "text": [
      "id\n",
      "target\n",
      "ps_ind_01\n",
      "ps_ind_02_cat\n",
      "ps_ind_03\n",
      "ps_ind_04_cat\n",
      "ps_ind_05_cat\n",
      "ps_ind_06_bin\n",
      "ps_ind_07_bin\n",
      "ps_ind_08_bin\n",
      "ps_ind_09_bin\n",
      "ps_ind_10_bin\n",
      "ps_ind_11_bin\n",
      "ps_ind_12_bin\n",
      "ps_ind_13_bin\n",
      "ps_ind_14\n",
      "ps_ind_15\n",
      "ps_ind_16_bin\n",
      "ps_ind_17_bin\n",
      "ps_ind_18_bin\n",
      "ps_reg_01\n",
      "ps_reg_02\n",
      "ps_reg_03\n",
      "ps_car_01_cat\n",
      "ps_car_02_cat\n",
      "ps_car_03_cat\n",
      "ps_car_04_cat\n",
      "ps_car_05_cat\n",
      "ps_car_06_cat\n",
      "ps_car_07_cat\n",
      "ps_car_08_cat\n",
      "ps_car_09_cat\n",
      "ps_car_10_cat\n",
      "ps_car_11\n",
      "ps_car_12\n",
      "ps_car_13\n",
      "ps_car_14\n",
      "ps_car_15\n",
      "hd_ps_car_13_x_ps_reg_03\n",
      "roh_ps_ind_06_09\n",
      "roh_ps_ind_16_18\n",
      "missing_count\n",
      "oh_ps_ind_02_cat_2\n",
      "oh_ps_ind_02_cat_1\n",
      "oh_ps_ind_02_cat_4\n",
      "oh_ps_ind_02_cat_3\n",
      "oh_ps_ind_02_cat_-1\n",
      "oh_ps_ind_04_cat_1\n",
      "oh_ps_ind_04_cat_0\n",
      "oh_ps_ind_04_cat_-1\n",
      "ro_ps_ind_05_cat\n",
      "oh_ps_ind_14_0\n",
      "oh_ps_ind_14_1\n",
      "oh_ps_ind_14_2\n",
      "oh_ps_ind_14_3\n",
      "oh_ps_ind_14_4\n",
      "ro_ps_car_01_cat\n",
      "oh_ps_car_02_cat_1\n",
      "oh_ps_car_02_cat_0\n",
      "oh_ps_car_02_cat_-1\n",
      "oh_ps_car_03_cat_-1\n",
      "oh_ps_car_03_cat_0\n",
      "oh_ps_car_03_cat_1\n",
      "ro_ps_car_04_cat\n",
      "oh_ps_car_05_cat_1\n",
      "oh_ps_car_05_cat_-1\n",
      "oh_ps_car_05_cat_0\n",
      "ro_ps_car_06_cat\n",
      "oh_ps_car_07_cat_1\n",
      "oh_ps_car_07_cat_-1\n",
      "oh_ps_car_07_cat_0\n",
      "oh_ps_car_09_cat_0\n",
      "oh_ps_car_09_cat_2\n",
      "oh_ps_car_09_cat_3\n",
      "oh_ps_car_09_cat_1\n",
      "oh_ps_car_09_cat_-1\n",
      "oh_ps_car_09_cat_4\n",
      "oh_ps_car_10_cat_1\n",
      "oh_ps_car_10_cat_0\n",
      "oh_ps_car_10_cat_2\n",
      "oh_ps_car_11_2\n",
      "oh_ps_car_11_3\n",
      "oh_ps_car_11_1\n",
      "oh_ps_car_11_0\n",
      "oh_ps_car_11_-1\n",
      "med_range_ps_ind_01\n",
      "mean_range_ps_ind_01\n",
      "med_range_ps_ind_03\n",
      "mean_range_ps_ind_03\n",
      "med_range_ps_ind_14\n",
      "mean_range_ps_ind_14\n",
      "med_range_ps_ind_15\n",
      "mean_range_ps_ind_15\n",
      "med_range_ps_reg_01\n",
      "mean_range_ps_reg_01\n",
      "med_range_ps_reg_02\n",
      "mean_range_ps_reg_02\n",
      "med_range_ps_reg_03\n",
      "mean_range_ps_reg_03\n",
      "med_range_ps_car_11\n",
      "mean_range_ps_car_11\n",
      "med_range_ps_car_12\n",
      "mean_range_ps_car_12\n",
      "med_range_ps_car_13\n",
      "mean_range_ps_car_13\n",
      "med_range_ps_car_14\n",
      "mean_range_ps_car_14\n",
      "med_range_ps_car_15\n",
      "mean_range_ps_car_15\n",
      "med_range_ro_ps_ind_05_cat\n",
      "mean_range_ro_ps_ind_05_cat\n",
      "med_range_ro_ps_car_01_cat\n",
      "mean_range_ro_ps_car_01_cat\n",
      "med_range_ro_ps_car_04_cat\n",
      "mean_range_ro_ps_car_04_cat\n",
      "med_range_ro_ps_car_06_cat\n",
      "mean_range_ro_ps_car_06_cat\n"
     ]
    }
   ],
   "source": [
    "for c in df0.columns:\n",
    "    print c"
   ]
  },
  {
   "cell_type": "code",
   "execution_count": null,
   "metadata": {
    "collapsed": true
   },
   "outputs": [],
   "source": []
  }
 ],
 "metadata": {
  "kernelspec": {
   "display_name": "Python 2",
   "language": "python",
   "name": "python2"
  },
  "language_info": {
   "codemirror_mode": {
    "name": "ipython",
    "version": 2
   },
   "file_extension": ".py",
   "mimetype": "text/x-python",
   "name": "python",
   "nbconvert_exporter": "python",
   "pygments_lexer": "ipython2",
   "version": "2.7.14"
  }
 },
 "nbformat": 4,
 "nbformat_minor": 2
}
